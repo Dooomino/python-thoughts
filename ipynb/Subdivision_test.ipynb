{
  "nbformat": 4,
  "nbformat_minor": 0,
  "metadata": {
    "colab": {
      "name": "Subdivision_test.ipynb",
      "provenance": [],
      "collapsed_sections": [
        "SSm-11r5rsEs"
      ]
    },
    "kernelspec": {
      "name": "python3",
      "display_name": "Python 3"
    }
  },
  "cells": [
    {
      "cell_type": "markdown",
      "metadata": {
        "id": "SSm-11r5rsEs"
      },
      "source": [
        "# 1st Subdivide"
      ]
    },
    {
      "cell_type": "code",
      "metadata": {
        "id": "rJGwywG9r0Am"
      },
      "source": [
        ""
      ],
      "execution_count": null,
      "outputs": []
    },
    {
      "cell_type": "code",
      "metadata": {
        "id": "i1OQmjjMjd_P"
      },
      "source": [
        "import numpy as np"
      ],
      "execution_count": null,
      "outputs": []
    },
    {
      "cell_type": "code",
      "metadata": {
        "id": "jHLjKifar0Gs"
      },
      "source": [
        ""
      ],
      "execution_count": null,
      "outputs": []
    },
    {
      "cell_type": "code",
      "metadata": {
        "id": "5Q317sJgnkGW"
      },
      "source": [
        "class Pt:\n",
        "  def __init__(self):\n",
        "    self.x = 0.0\n",
        "    self.y = 0.0\n",
        "  \n",
        "  def __init__(self,x,y):\n",
        "    self.x = x *1.0\n",
        "    self.y = y *1.0\n",
        "\n",
        "  def add(o1,o2):\n",
        "    # print(o1,o2)\n",
        "    new = Pt(o1.x + o2.x,o1.y + o2.y)\n",
        "    return new\n",
        "\n",
        "  def __add__(self, new):\n",
        "    print(new)\n",
        "    return Pt(self.x+new.x,self.y+new.y)\n",
        "\n",
        "  def __truediv__(self,value):\n",
        "    self.x /= value\n",
        "    self.y /= value\n",
        "  \n",
        "  def __str__(self):\n",
        "    return \"(\"+str(self.x)+\",\"+str(self.y)+\")\"\n",
        "\n",
        "  def __repr__(self):\n",
        "    return \"(\"+str(self.x)+\",\"+str(self.y)+\")\"\n"
      ],
      "execution_count": null,
      "outputs": []
    },
    {
      "cell_type": "code",
      "metadata": {
        "id": "OvGgacBzjjGI",
        "colab": {
          "base_uri": "https://localhost:8080/"
        },
        "outputId": "a6006666-66ce-46f0-fecd-29f526698a10"
      },
      "source": [
        "A = np.array([[Pt(-1,1),Pt(1,1)],[Pt(-1,-1),Pt(1,-1)]])\n",
        "A"
      ],
      "execution_count": null,
      "outputs": [
        {
          "output_type": "execute_result",
          "data": {
            "text/plain": [
              "array([[(-1.0,1.0), (1.0,1.0)],\n",
              "       [(-1.0,-1.0), (1.0,-1.0)]], dtype=object)"
            ]
          },
          "metadata": {
            "tags": []
          },
          "execution_count": 74
        }
      ]
    },
    {
      "cell_type": "code",
      "metadata": {
        "id": "RS4iHvR60lVr"
      },
      "source": [
        "def square(mesh,x,y,step):\n",
        "  half = step//2\n",
        "  avg = mesh[x][y]+mesh[x+step][y]+mesh[x][y+step]+mesh[x+step][y+step]\n",
        "  avg /= 4.0\n",
        "  mesh[x+half][y+half] = avg"
      ],
      "execution_count": null,
      "outputs": []
    },
    {
      "cell_type": "code",
      "metadata": {
        "id": "YRQ-Bqjr0lEd"
      },
      "source": [
        "def diamond(mesh,x,y,step):\n",
        "  half = step//2\n",
        "  size = mesh.shape[0]-1\n",
        "  avg = mesh[(x-half+size)%size][y]+ \\\n",
        "        mesh[(x+half)%size][y]+ \\\n",
        "        mesh[x][(y+half)%size]+ \\\n",
        "        mesh[x][(y-half+size)%size]\n",
        "  avg /= 4.0\n",
        "  mesh[x][y] = avg\n",
        "  if x== 0:\n",
        "    mesh[size][y]=avg\n",
        "  if y== 0:\n",
        "    mesh[x][size]=avg"
      ],
      "execution_count": null,
      "outputs": []
    },
    {
      "cell_type": "code",
      "metadata": {
        "id": "BNClUM6bj473"
      },
      "source": [
        "def subdivide(mesh):\n",
        "  new_mesh = np.empty((mesh.shape[0]*2-1,mesh.shape[1]*2-1),dtype=Pt)\n",
        "  new_mesh.fill(Pt(0.0,0.0))\n",
        "  new_mesh[0][0] = mesh[0][0]\n",
        "  new_mesh[0][new_mesh.shape[1]-1]= mesh[0][mesh.shape[1]-1] \n",
        "  new_mesh[new_mesh.shape[0]-1][0]= mesh[mesh.shape[0]-1][0]\n",
        "  new_mesh[new_mesh.shape[0]-1][new_mesh.shape[1]-1]= mesh[mesh.shape[0]-1][mesh.shape[1]-1]\n",
        "  # print(new_mesh) \n",
        "  step = new_mesh.shape[0]-1\n",
        "  while step>1: \n",
        "    for i in range(new_mesh.shape[0]-1,step):\n",
        "      for j in range(new_mesh.shape[1]-1,step):\n",
        "        diamond(new_mesh,i,j,step)\n",
        "    for i in range(new_mesh.shape[0]-1,step//2):\n",
        "      for j in range((x+step//2)%step,new_mesh.shape[1]-1,step):\n",
        "        square(new_mesh,i,j,step)\n",
        "    step //= 2\n",
        "  return new_mesh"
      ],
      "execution_count": null,
      "outputs": []
    },
    {
      "cell_type": "code",
      "metadata": {
        "id": "ySpbXC3Gqywa"
      },
      "source": [
        "def subdivision(A,times):\n",
        "  SA = A\n",
        "  for i in range(times):\n",
        "    SA = subdivide(SA)\n",
        "  return SA\n"
      ],
      "execution_count": null,
      "outputs": []
    },
    {
      "cell_type": "code",
      "metadata": {
        "id": "sOqXFLqLltJ2"
      },
      "source": [
        "SA = subdivision(A,3)\n",
        "# print(A)\n",
        "# print(SA)"
      ],
      "execution_count": null,
      "outputs": []
    },
    {
      "cell_type": "code",
      "metadata": {
        "id": "LBvySle8vcpv"
      },
      "source": [
        ""
      ],
      "execution_count": null,
      "outputs": []
    },
    {
      "cell_type": "markdown",
      "metadata": {
        "id": "fLHrI0Vpr1Lw"
      },
      "source": [
        "# 2nd subdivide"
      ]
    },
    {
      "cell_type": "code",
      "metadata": {
        "id": "jqYUPsVnvIM1"
      },
      "source": [
        "import random"
      ],
      "execution_count": null,
      "outputs": []
    },
    {
      "cell_type": "code",
      "metadata": {
        "id": "sMrJI2KztS73"
      },
      "source": [
        " def squareStep(A,x,z,reach):\n",
        "   count = 0\n",
        "   avg = 0.0\n",
        "   sx = int(A.shape[0])\n",
        "   sz = int(A.shape[1])\n",
        "\n",
        "   if (x - reach) >= 0 and (z - reach) >= 0:\n",
        "     avg += A[x - reach][z - reach]\n",
        "     count+=1\n",
        "   if (x - reach) >= 0 and (z + reach) < sz:\n",
        "     avg += A[x - reach][z + reach]\n",
        "     count+=1\n",
        "   if (x + reach) < sx and (z - reach) >= 0:\n",
        "     avg += A[x + reach][z - reach]\n",
        "     count+=1\n",
        "   if (x + reach) < sx and (z + reach) < sz:\n",
        "     avg += A[x + reach][z + reach]\n",
        "     count+=1\n",
        "   avg += random.random()*reach\n",
        "   avg /= count\n",
        "   A[x][z] = avg"
      ],
      "execution_count": null,
      "outputs": []
    },
    {
      "cell_type": "code",
      "metadata": {
        "id": "eMBjGqWUvdh7"
      },
      "source": [
        "def diamondStep(A,x,z,reach):\n",
        "   count = 0\n",
        "   avg = 0.0\n",
        "   sx = int(A.shape[0])\n",
        "   sz = int(A.shape[1])\n",
        "\n",
        "   if (x - reach) >= 0 :\n",
        "     avg += A[x - reach][z]\n",
        "     count+=1\n",
        "   if (x + reach) < sx:\n",
        "     avg += A[x + reach][z]\n",
        "     count+=1\n",
        "   if (z - reach) >= 0:\n",
        "     avg += A[x][z - reach]\n",
        "     count+=1\n",
        "   if (z + reach) < sz:\n",
        "     avg += A[x][z + reach]\n",
        "     count+=1\n",
        "   avg += random.random()*reach\n",
        "   avg /= count\n",
        "   A[x][z] = avg"
      ],
      "execution_count": null,
      "outputs": []
    },
    {
      "cell_type": "code",
      "metadata": {
        "id": "-ZKpdJOer6Pg"
      },
      "source": [
        "def diamondSquare(A,size):\n",
        "  half = int(size/2)\n",
        "  print(half)\n",
        "  if half < 1:\n",
        "    return\n",
        "  sx = int(A.shape[0])\n",
        "  sz = int(A.shape[1])\n",
        "  \n",
        "  # Square\n",
        "  for z in range(half,sz,size):\n",
        "    for x in range(half,sx,size):\n",
        "      squareStep(A,x % sx, z % sz,half)\n",
        "\n",
        "  # Diamond\n",
        "  col = 0 \n",
        "  for x in range(0,sx,half):\n",
        "    col+=1\n",
        "    if col % 2 == 1:\n",
        "      for z in range(half,sz,size):\n",
        "        diamondStep(A,x % sx, z % sz,half)\n",
        "    else:\n",
        "      for z in range(0,sz,size):\n",
        "        diamondStep(A,x % sx, z % sz,half)\n",
        "  diamondSquare(A,int(size / 2))\n",
        "  return A"
      ],
      "execution_count": null,
      "outputs": []
    },
    {
      "cell_type": "code",
      "metadata": {
        "id": "S0mkARLDxo6U",
        "colab": {
          "base_uri": "https://localhost:8080/",
          "height": 334
        },
        "outputId": "0bc25eec-a7ed-4f33-d594-f26bd2fd530d"
      },
      "source": [
        "size = 50\n",
        "A = np.array([[0.0 for i in range(size)] for j in range(size)])\n",
        "SA = diamondSquare(A,size)\n",
        "SA"
      ],
      "execution_count": null,
      "outputs": [
        {
          "output_type": "stream",
          "text": [
            "25\n",
            "12\n",
            "6\n",
            "3\n",
            "1\n",
            "0\n"
          ],
          "name": "stdout"
        },
        {
          "output_type": "execute_result",
          "data": {
            "text/plain": [
              "array([[0.        , 0.28879047, 0.        , ..., 0.        , 0.        ,\n",
              "        0.28160175],\n",
              "       [0.22324803, 0.00074839, 0.        , ..., 0.        , 0.1361582 ,\n",
              "        0.44961703],\n",
              "       [0.        , 0.21238971, 0.        , ..., 0.        , 0.        ,\n",
              "        0.24617282],\n",
              "       ...,\n",
              "       [0.16326936, 0.        , 0.        , ..., 0.        , 0.03014431,\n",
              "        0.        ],\n",
              "       [0.        , 0.11224885, 0.        , ..., 0.        , 0.        ,\n",
              "        0.06846087],\n",
              "       [0.39532248, 0.37143802, 0.        , ..., 0.        , 0.27668575,\n",
              "        0.15889961]])"
            ]
          },
          "metadata": {
            "tags": []
          },
          "execution_count": 96
        }
      ]
    },
    {
      "cell_type": "code",
      "metadata": {
        "id": "EY5A-wiB1pJd",
        "colab": {
          "base_uri": "https://localhost:8080/",
          "height": 267
        },
        "outputId": "a64687da-a0fe-4ec2-8c57-ad09d7c44d85"
      },
      "source": [
        "import matplotlib.pyplot as plt\n",
        "plt.imshow(SA)\n",
        "plt.show()\n"
      ],
      "execution_count": null,
      "outputs": [
        {
          "output_type": "display_data",
          "data": {
            "image/png": "[encoded data removed]",
            "text/plain": [
              "<Figure size 432x288 with 1 Axes>"
            ]
          },
          "metadata": {
            "tags": [],
            "needs_background": "light"
          }
        }
      ]
    }
  ]
}